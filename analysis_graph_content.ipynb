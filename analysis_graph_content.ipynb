{
 "cells": [
  {
   "cell_type": "code",
   "execution_count": 1,
   "metadata": {},
   "outputs": [],
   "source": [
    "from utils import WebSegmenter,visualize_graph,get_summary\n",
    "import pandas as pd\n",
    "import pprint\n",
    "import seaborn as sns\n",
    "from datetime import datetime\n",
    "import pickle\n",
    "from pprint import pprint\n",
    "import string"
   ]
  },
  {
   "attachments": {},
   "cell_type": "markdown",
   "metadata": {},
   "source": [
    "# Support functions"
   ]
  },
  {
   "cell_type": "code",
   "execution_count": 2,
   "metadata": {},
   "outputs": [],
   "source": [
    "def get_data_from_graph(graph):\n",
    "    return list(graph.nodes(data=True))"
   ]
  },
  {
   "cell_type": "code",
   "execution_count": 3,
   "metadata": {},
   "outputs": [],
   "source": [
    "def get_text_from_graph(graph_data):\n",
    "    txt = ''\n",
    "    for el in graph_data:\n",
    "        if 'payload' in el[1]:\n",
    "            if el[1]['payload']:\n",
    "                txt += el[1]['payload'].get('text')\n",
    "                if not txt.endswith('\\n'):\n",
    "                      txt += '\\n'\n",
    "        \n",
    "        if 'link_meta' in el[1]:\n",
    "            if el[1]['link_meta'] is not None:\n",
    "                if 'text_payload' in el[1]['link_meta'] and el[1]['link_meta'].get('text_payload'):\n",
    "                    for txt_tmp in el[1]['link_meta']['text_payload']:\n",
    "                        if not txt_tmp.endswith('\\n'):\n",
    "                            txt_tmp += '\\n'\n",
    "                        if not txt.endswith(txt_tmp):\n",
    "                            txt += txt_tmp\n",
    "    return txt"
   ]
  },
  {
   "cell_type": "code",
   "execution_count": 4,
   "metadata": {},
   "outputs": [],
   "source": [
    "def replace_end_of_line_and_duplicate_by_whitespace(txt):\n",
    "    #replace punctuation by whitespace with a regex\n",
    "    txt = txt.translate(str.maketrans(string.punctuation, ' '*len(string.punctuation)))\n",
    "    txt = txt.replace('\\n',' ')\n",
    "    txt = txt.replace('\\t',' ')\n",
    "    txt = txt.replace('\\r',' ')\n",
    "    txt = txt.replace('  ',' ')\n",
    "    txt = txt.replace('  ',' ')\n",
    "    return txt"
   ]
  },
  {
   "cell_type": "code",
   "execution_count": 5,
   "metadata": {},
   "outputs": [],
   "source": [
    "def lower_case_and_convert_txt_to_tokens_set(txt):\n",
    "    txt = txt.lower()\n",
    "    txt = txt.split(' ')\n",
    "    txt = set(txt)\n",
    "    return txt"
   ]
  },
  {
   "cell_type": "code",
   "execution_count": 6,
   "metadata": {},
   "outputs": [],
   "source": [
    "def clean_txt(txt):\n",
    "    return replace_end_of_line_and_duplicate_by_whitespace(txt)"
   ]
  },
  {
   "cell_type": "code",
   "execution_count": 7,
   "metadata": {},
   "outputs": [],
   "source": [
    "def txt_to_set(txt):\n",
    "    txt = replace_end_of_line_and_duplicate_by_whitespace(txt)\n",
    "    txt = lower_case_and_convert_txt_to_tokens_set(txt)\n",
    "    return txt"
   ]
  },
  {
   "cell_type": "code",
   "execution_count": 8,
   "metadata": {},
   "outputs": [],
   "source": [
    "def jaccard_similarity(txt1, txt2):\n",
    "    intersection = len(txt1.intersection(txt2))\n",
    "    union = len(txt1.union(txt2))\n",
    "    return intersection / union"
   ]
  },
  {
   "cell_type": "code",
   "execution_count": 30,
   "metadata": {},
   "outputs": [],
   "source": [
    "def set_difference(txt1, txt2):\n",
    "    return txt1.difference(txt2)"
   ]
  },
  {
   "attachments": {},
   "cell_type": "markdown",
   "metadata": {},
   "source": [
    "# Load data"
   ]
  },
  {
   "attachments": {},
   "cell_type": "markdown",
   "metadata": {},
   "source": [
    "On a sample of 1K scraped website, "
   ]
  },
  {
   "cell_type": "code",
   "execution_count": 9,
   "metadata": {},
   "outputs": [
    {
     "data": {
      "text/html": [
       "<div>\n",
       "<style scoped>\n",
       "    .dataframe tbody tr th:only-of-type {\n",
       "        vertical-align: middle;\n",
       "    }\n",
       "\n",
       "    .dataframe tbody tr th {\n",
       "        vertical-align: top;\n",
       "    }\n",
       "\n",
       "    .dataframe thead th {\n",
       "        text-align: right;\n",
       "    }\n",
       "</style>\n",
       "<table border=\"1\" class=\"dataframe\">\n",
       "  <thead>\n",
       "    <tr style=\"text-align: right;\">\n",
       "      <th></th>\n",
       "      <th>url</th>\n",
       "      <th>content</th>\n",
       "      <th>graph</th>\n",
       "      <th>any_graph</th>\n",
       "      <th>graph_size</th>\n",
       "    </tr>\n",
       "  </thead>\n",
       "  <tbody>\n",
       "    <tr>\n",
       "      <th>13</th>\n",
       "      <td>http://seamfix.com</td>\n",
       "      <td>\\n ; Seamfix – People &amp; Software Development C...</td>\n",
       "      <td>(d07d6b99955b3348ec7ac7ed67d75832e041b876, 752...</td>\n",
       "      <td>1</td>\n",
       "      <td>352</td>\n",
       "    </tr>\n",
       "    <tr>\n",
       "      <th>14</th>\n",
       "      <td>http://tailwindapp.com</td>\n",
       "      <td>; Tailwind Social Media &amp; Email Marketing To...</td>\n",
       "      <td>(3984cbdd5712a6f4ed35f54bb65151b821186804, 698...</td>\n",
       "      <td>1</td>\n",
       "      <td>310</td>\n",
       "    </tr>\n",
       "    <tr>\n",
       "      <th>16</th>\n",
       "      <td>http://yoappstore.com</td>\n",
       "      <td>\\n ; eCommerce App Development Company | Creat...</td>\n",
       "      <td>(db3d682260e9e7d55b4cd1dd3c8a2638274d4ad8, f35...</td>\n",
       "      <td>1</td>\n",
       "      <td>303</td>\n",
       "    </tr>\n",
       "    <tr>\n",
       "      <th>22</th>\n",
       "      <td>http://www.aldautomotive.co.uk</td>\n",
       "      <td>\\n ; \\r\\n\\tCompany Car Leasing &amp; Vehicle Leasi...</td>\n",
       "      <td>(3d98641c2312d3d2b9fae70becade184316941dc, 7ad...</td>\n",
       "      <td>1</td>\n",
       "      <td>304</td>\n",
       "    </tr>\n",
       "    <tr>\n",
       "      <th>26</th>\n",
       "      <td>http://www.sauter-personal.de</td>\n",
       "      <td>\\n ; Die Jobbörse mit aktuellen Jobprofilen, J...</td>\n",
       "      <td>(698f1cae7b3208b2df9856db2d951ddddc7022bf, 1bb...</td>\n",
       "      <td>1</td>\n",
       "      <td>260</td>\n",
       "    </tr>\n",
       "  </tbody>\n",
       "</table>\n",
       "</div>"
      ],
      "text/plain": [
       "                               url   \n",
       "13              http://seamfix.com  \\\n",
       "14          http://tailwindapp.com   \n",
       "16           http://yoappstore.com   \n",
       "22  http://www.aldautomotive.co.uk   \n",
       "26   http://www.sauter-personal.de   \n",
       "\n",
       "                                              content   \n",
       "13  \\n ; Seamfix – People & Software Development C...  \\\n",
       "14    ; Tailwind Social Media & Email Marketing To...   \n",
       "16  \\n ; eCommerce App Development Company | Creat...   \n",
       "22  \\n ; \\r\\n\\tCompany Car Leasing & Vehicle Leasi...   \n",
       "26  \\n ; Die Jobbörse mit aktuellen Jobprofilen, J...   \n",
       "\n",
       "                                                graph  any_graph  graph_size  \n",
       "13  (d07d6b99955b3348ec7ac7ed67d75832e041b876, 752...          1         352  \n",
       "14  (3984cbdd5712a6f4ed35f54bb65151b821186804, 698...          1         310  \n",
       "16  (db3d682260e9e7d55b4cd1dd3c8a2638274d4ad8, f35...          1         303  \n",
       "22  (3d98641c2312d3d2b9fae70becade184316941dc, 7ad...          1         304  \n",
       "26  (698f1cae7b3208b2df9856db2d951ddddc7022bf, 1bb...          1         260  "
      ]
     },
     "execution_count": 9,
     "metadata": {},
     "output_type": "execute_result"
    }
   ],
   "source": [
    "pdf = pickle.load(open('PE_relevant_sample_2023_05_23_with_analysis.pkl', 'rb'))\n",
    "pdf = pdf[pdf['graph_size'] > 250]\n",
    "pdf.head()"
   ]
  },
  {
   "attachments": {},
   "cell_type": "markdown",
   "metadata": {},
   "source": [
    "## Extract and clean texts"
   ]
  },
  {
   "cell_type": "code",
   "execution_count": 10,
   "metadata": {},
   "outputs": [],
   "source": [
    "pdf['graph_data'] = pdf['graph'].apply(get_data_from_graph)\n",
    "pdf['graph_text'] = pdf['graph_data'].apply(get_text_from_graph)\n",
    "pdf['graph_text_clean'] = pdf['graph_text'].apply(clean_txt)\n",
    "pdf['graph_text_clean_set'] = pdf['graph_text_clean'].apply(txt_to_set)"
   ]
  },
  {
   "cell_type": "code",
   "execution_count": 11,
   "metadata": {},
   "outputs": [],
   "source": [
    "pdf['content_text_clean'] = pdf['content'].apply(clean_txt)\n",
    "pdf['content_text_clean_set'] = pdf['content_text_clean'].apply(txt_to_set)"
   ]
  },
  {
   "cell_type": "code",
   "execution_count": 12,
   "metadata": {},
   "outputs": [
    {
     "data": {
      "text/html": [
       "<div>\n",
       "<style scoped>\n",
       "    .dataframe tbody tr th:only-of-type {\n",
       "        vertical-align: middle;\n",
       "    }\n",
       "\n",
       "    .dataframe tbody tr th {\n",
       "        vertical-align: top;\n",
       "    }\n",
       "\n",
       "    .dataframe thead th {\n",
       "        text-align: right;\n",
       "    }\n",
       "</style>\n",
       "<table border=\"1\" class=\"dataframe\">\n",
       "  <thead>\n",
       "    <tr style=\"text-align: right;\">\n",
       "      <th></th>\n",
       "      <th>content_text_clean</th>\n",
       "      <th>graph_text_clean</th>\n",
       "    </tr>\n",
       "  </thead>\n",
       "  <tbody>\n",
       "    <tr>\n",
       "      <th>13</th>\n",
       "      <td>Seamfix – People Software Development Company...</td>\n",
       "      <td>Solutions Verification Suite Enrolment Suite ...</td>\n",
       "    </tr>\n",
       "    <tr>\n",
       "      <th>14</th>\n",
       "      <td>Tailwind Social Media Email Marketing Tool Pl...</td>\n",
       "      <td>Please Wait Connecting your Pinterest account ...</td>\n",
       "    </tr>\n",
       "    <tr>\n",
       "      <th>16</th>\n",
       "      <td>eCommerce App Development Company Create mobi...</td>\n",
       "      <td>info yoappstore com 91 74156 64456 Home About ...</td>\n",
       "    </tr>\n",
       "    <tr>\n",
       "      <th>22</th>\n",
       "      <td>Company Car Leasing Vehicle Leasing ALD Auto...</td>\n",
       "      <td>Apps ALD websites Algeria Austria Belarus Bel...</td>\n",
       "    </tr>\n",
       "    <tr>\n",
       "      <th>26</th>\n",
       "      <td>Die Jobbörse mit aktuellen Jobprofilen Jobs u...</td>\n",
       "      <td>Für Bewerber Jobsuche Portal Initiativbewerbu...</td>\n",
       "    </tr>\n",
       "  </tbody>\n",
       "</table>\n",
       "</div>"
      ],
      "text/plain": [
       "                                   content_text_clean   \n",
       "13   Seamfix – People Software Development Company...  \\\n",
       "14   Tailwind Social Media Email Marketing Tool Pl...   \n",
       "16   eCommerce App Development Company Create mobi...   \n",
       "22    Company Car Leasing Vehicle Leasing ALD Auto...   \n",
       "26   Die Jobbörse mit aktuellen Jobprofilen Jobs u...   \n",
       "\n",
       "                                     graph_text_clean  \n",
       "13   Solutions Verification Suite Enrolment Suite ...  \n",
       "14  Please Wait Connecting your Pinterest account ...  \n",
       "16  info yoappstore com 91 74156 64456 Home About ...  \n",
       "22   Apps ALD websites Algeria Austria Belarus Bel...  \n",
       "26   Für Bewerber Jobsuche Portal Initiativbewerbu...  "
      ]
     },
     "execution_count": 12,
     "metadata": {},
     "output_type": "execute_result"
    }
   ],
   "source": [
    "pdf[['content_text_clean','graph_text_clean']].head()"
   ]
  },
  {
   "attachments": {},
   "cell_type": "markdown",
   "metadata": {},
   "source": [
    "## Length difference"
   ]
  },
  {
   "cell_type": "code",
   "execution_count": 13,
   "metadata": {},
   "outputs": [],
   "source": [
    "pdf['content_text_clean_size'] = pdf['content_text_clean'].apply(len)\n",
    "pdf['graph_text_clean_size'] = pdf['graph_text_clean'].apply(len)"
   ]
  },
  {
   "cell_type": "code",
   "execution_count": 14,
   "metadata": {},
   "outputs": [
    {
     "data": {
      "text/html": [
       "<div>\n",
       "<style scoped>\n",
       "    .dataframe tbody tr th:only-of-type {\n",
       "        vertical-align: middle;\n",
       "    }\n",
       "\n",
       "    .dataframe tbody tr th {\n",
       "        vertical-align: top;\n",
       "    }\n",
       "\n",
       "    .dataframe thead th {\n",
       "        text-align: right;\n",
       "    }\n",
       "</style>\n",
       "<table border=\"1\" class=\"dataframe\">\n",
       "  <thead>\n",
       "    <tr style=\"text-align: right;\">\n",
       "      <th></th>\n",
       "      <th>content_text_clean_size</th>\n",
       "      <th>graph_text_clean_size</th>\n",
       "    </tr>\n",
       "  </thead>\n",
       "  <tbody>\n",
       "    <tr>\n",
       "      <th>content_text_clean_size</th>\n",
       "      <td>1.000000</td>\n",
       "      <td>0.974188</td>\n",
       "    </tr>\n",
       "    <tr>\n",
       "      <th>graph_text_clean_size</th>\n",
       "      <td>0.974188</td>\n",
       "      <td>1.000000</td>\n",
       "    </tr>\n",
       "  </tbody>\n",
       "</table>\n",
       "</div>"
      ],
      "text/plain": [
       "                         content_text_clean_size  graph_text_clean_size\n",
       "content_text_clean_size                 1.000000               0.974188\n",
       "graph_text_clean_size                   0.974188               1.000000"
      ]
     },
     "execution_count": 14,
     "metadata": {},
     "output_type": "execute_result"
    }
   ],
   "source": [
    "pdf[['content_text_clean_size', 'graph_text_clean_size']].corr(method='pearson')"
   ]
  },
  {
   "cell_type": "code",
   "execution_count": 15,
   "metadata": {},
   "outputs": [
    {
     "data": {
      "text/html": [
       "<div>\n",
       "<style scoped>\n",
       "    .dataframe tbody tr th:only-of-type {\n",
       "        vertical-align: middle;\n",
       "    }\n",
       "\n",
       "    .dataframe tbody tr th {\n",
       "        vertical-align: top;\n",
       "    }\n",
       "\n",
       "    .dataframe thead th {\n",
       "        text-align: right;\n",
       "    }\n",
       "</style>\n",
       "<table border=\"1\" class=\"dataframe\">\n",
       "  <thead>\n",
       "    <tr style=\"text-align: right;\">\n",
       "      <th></th>\n",
       "      <th>content_text_clean_size</th>\n",
       "      <th>graph_text_clean_size</th>\n",
       "    </tr>\n",
       "  </thead>\n",
       "  <tbody>\n",
       "    <tr>\n",
       "      <th>content_text_clean_size</th>\n",
       "      <td>1.000000</td>\n",
       "      <td>0.936507</td>\n",
       "    </tr>\n",
       "    <tr>\n",
       "      <th>graph_text_clean_size</th>\n",
       "      <td>0.936507</td>\n",
       "      <td>1.000000</td>\n",
       "    </tr>\n",
       "  </tbody>\n",
       "</table>\n",
       "</div>"
      ],
      "text/plain": [
       "                         content_text_clean_size  graph_text_clean_size\n",
       "content_text_clean_size                 1.000000               0.936507\n",
       "graph_text_clean_size                   0.936507               1.000000"
      ]
     },
     "execution_count": 15,
     "metadata": {},
     "output_type": "execute_result"
    }
   ],
   "source": [
    "pdf[['content_text_clean_size', 'graph_text_clean_size']].corr(method='spearman')"
   ]
  },
  {
   "cell_type": "code",
   "execution_count": 16,
   "metadata": {},
   "outputs": [
    {
     "data": {
      "text/html": [
       "<div>\n",
       "<style scoped>\n",
       "    .dataframe tbody tr th:only-of-type {\n",
       "        vertical-align: middle;\n",
       "    }\n",
       "\n",
       "    .dataframe tbody tr th {\n",
       "        vertical-align: top;\n",
       "    }\n",
       "\n",
       "    .dataframe thead th {\n",
       "        text-align: right;\n",
       "    }\n",
       "</style>\n",
       "<table border=\"1\" class=\"dataframe\">\n",
       "  <thead>\n",
       "    <tr style=\"text-align: right;\">\n",
       "      <th></th>\n",
       "      <th>content_text_clean_size</th>\n",
       "      <th>graph_text_clean_size</th>\n",
       "    </tr>\n",
       "  </thead>\n",
       "  <tbody>\n",
       "    <tr>\n",
       "      <th>content_text_clean_size</th>\n",
       "      <td>1.000000</td>\n",
       "      <td>0.849794</td>\n",
       "    </tr>\n",
       "    <tr>\n",
       "      <th>graph_text_clean_size</th>\n",
       "      <td>0.849794</td>\n",
       "      <td>1.000000</td>\n",
       "    </tr>\n",
       "  </tbody>\n",
       "</table>\n",
       "</div>"
      ],
      "text/plain": [
       "                         content_text_clean_size  graph_text_clean_size\n",
       "content_text_clean_size                 1.000000               0.849794\n",
       "graph_text_clean_size                   0.849794               1.000000"
      ]
     },
     "execution_count": 16,
     "metadata": {},
     "output_type": "execute_result"
    }
   ],
   "source": [
    "pdf[['content_text_clean_size', 'graph_text_clean_size']].corr(method='kendall')"
   ]
  },
  {
   "cell_type": "code",
   "execution_count": 17,
   "metadata": {},
   "outputs": [
    {
     "data": {
      "text/plain": [
       "<Axes: xlabel='content_text_clean_size', ylabel='graph_text_clean_size'>"
      ]
     },
     "execution_count": 17,
     "metadata": {},
     "output_type": "execute_result"
    },
    {
     "data": {
      "image/png": "[encoded data removed]",
      "text/plain": [
       "<Figure size 640x480 with 1 Axes>"
      ]
     },
     "metadata": {},
     "output_type": "display_data"
    }
   ],
   "source": [
    "pdf.plot.scatter(x='content_text_clean_size', y='graph_text_clean_size')"
   ]
  },
  {
   "cell_type": "code",
   "execution_count": null,
   "metadata": {},
   "outputs": [],
   "source": [
    "# Display the the rows where the absolute relative ratio of the graph text size over the content text size is greater than 1.5\n",
    "pdf['ratio'] = 1 - pdf['graph_text_clean_size'] / pdf['content_text_clean_size']\n",
    "pdf['ratio'] = pdf['ratio'].abs()\n",
    "for r in pdf[pdf['ratio'] > .5].iterrows():\n",
    "    print(r[0])\n",
    "    print(r[1]['url'])\n",
    "    pprint(r[1]['content_text_clean'])\n",
    "    print('\\n----------------\\n') \n",
    "    pprint(r[1]['graph_text_clean'])\n",
    "    print(r[1]['ratio'])\n",
    "    print('\\n\\n\\n\\n')\n"
   ]
  },
  {
   "attachments": {},
   "cell_type": "markdown",
   "metadata": {},
   "source": [
    "## Token set size difference"
   ]
  },
  {
   "cell_type": "code",
   "execution_count": 35,
   "metadata": {},
   "outputs": [],
   "source": [
    "pdf['content_text_clean_set_size'] = pdf['content_text_clean_set'].apply(len)\n",
    "pdf['graph_text_clean_set_size'] = pdf['graph_text_clean_set'].apply(len)"
   ]
  },
  {
   "cell_type": "code",
   "execution_count": 37,
   "metadata": {},
   "outputs": [
    {
     "data": {
      "text/html": [
       "<div>\n",
       "<style scoped>\n",
       "    .dataframe tbody tr th:only-of-type {\n",
       "        vertical-align: middle;\n",
       "    }\n",
       "\n",
       "    .dataframe tbody tr th {\n",
       "        vertical-align: top;\n",
       "    }\n",
       "\n",
       "    .dataframe thead th {\n",
       "        text-align: right;\n",
       "    }\n",
       "</style>\n",
       "<table border=\"1\" class=\"dataframe\">\n",
       "  <thead>\n",
       "    <tr style=\"text-align: right;\">\n",
       "      <th></th>\n",
       "      <th>content_text_clean_set_size</th>\n",
       "      <th>graph_text_clean_set_size</th>\n",
       "    </tr>\n",
       "  </thead>\n",
       "  <tbody>\n",
       "    <tr>\n",
       "      <th>content_text_clean_set_size</th>\n",
       "      <td>1.000000</td>\n",
       "      <td>0.986521</td>\n",
       "    </tr>\n",
       "    <tr>\n",
       "      <th>graph_text_clean_set_size</th>\n",
       "      <td>0.986521</td>\n",
       "      <td>1.000000</td>\n",
       "    </tr>\n",
       "  </tbody>\n",
       "</table>\n",
       "</div>"
      ],
      "text/plain": [
       "                             content_text_clean_set_size   \n",
       "content_text_clean_set_size                     1.000000  \\\n",
       "graph_text_clean_set_size                       0.986521   \n",
       "\n",
       "                             graph_text_clean_set_size  \n",
       "content_text_clean_set_size                   0.986521  \n",
       "graph_text_clean_set_size                     1.000000  "
      ]
     },
     "execution_count": 37,
     "metadata": {},
     "output_type": "execute_result"
    }
   ],
   "source": [
    "pdf[['content_text_clean_set_size', 'graph_text_clean_set_size']].corr(method='pearson')"
   ]
  },
  {
   "cell_type": "code",
   "execution_count": 38,
   "metadata": {},
   "outputs": [
    {
     "data": {
      "text/html": [
       "<div>\n",
       "<style scoped>\n",
       "    .dataframe tbody tr th:only-of-type {\n",
       "        vertical-align: middle;\n",
       "    }\n",
       "\n",
       "    .dataframe tbody tr th {\n",
       "        vertical-align: top;\n",
       "    }\n",
       "\n",
       "    .dataframe thead th {\n",
       "        text-align: right;\n",
       "    }\n",
       "</style>\n",
       "<table border=\"1\" class=\"dataframe\">\n",
       "  <thead>\n",
       "    <tr style=\"text-align: right;\">\n",
       "      <th></th>\n",
       "      <th>content_text_clean_set_size</th>\n",
       "      <th>graph_text_clean_set_size</th>\n",
       "    </tr>\n",
       "  </thead>\n",
       "  <tbody>\n",
       "    <tr>\n",
       "      <th>content_text_clean_set_size</th>\n",
       "      <td>1.000000</td>\n",
       "      <td>0.974968</td>\n",
       "    </tr>\n",
       "    <tr>\n",
       "      <th>graph_text_clean_set_size</th>\n",
       "      <td>0.974968</td>\n",
       "      <td>1.000000</td>\n",
       "    </tr>\n",
       "  </tbody>\n",
       "</table>\n",
       "</div>"
      ],
      "text/plain": [
       "                             content_text_clean_set_size   \n",
       "content_text_clean_set_size                     1.000000  \\\n",
       "graph_text_clean_set_size                       0.974968   \n",
       "\n",
       "                             graph_text_clean_set_size  \n",
       "content_text_clean_set_size                   0.974968  \n",
       "graph_text_clean_set_size                     1.000000  "
      ]
     },
     "execution_count": 38,
     "metadata": {},
     "output_type": "execute_result"
    }
   ],
   "source": [
    "pdf[['content_text_clean_set_size', 'graph_text_clean_set_size']].corr(method='spearman')"
   ]
  },
  {
   "cell_type": "code",
   "execution_count": 39,
   "metadata": {},
   "outputs": [
    {
     "data": {
      "text/html": [
       "<div>\n",
       "<style scoped>\n",
       "    .dataframe tbody tr th:only-of-type {\n",
       "        vertical-align: middle;\n",
       "    }\n",
       "\n",
       "    .dataframe tbody tr th {\n",
       "        vertical-align: top;\n",
       "    }\n",
       "\n",
       "    .dataframe thead th {\n",
       "        text-align: right;\n",
       "    }\n",
       "</style>\n",
       "<table border=\"1\" class=\"dataframe\">\n",
       "  <thead>\n",
       "    <tr style=\"text-align: right;\">\n",
       "      <th></th>\n",
       "      <th>content_text_clean_set_size</th>\n",
       "      <th>graph_text_clean_set_size</th>\n",
       "    </tr>\n",
       "  </thead>\n",
       "  <tbody>\n",
       "    <tr>\n",
       "      <th>content_text_clean_set_size</th>\n",
       "      <td>1.000000</td>\n",
       "      <td>0.928571</td>\n",
       "    </tr>\n",
       "    <tr>\n",
       "      <th>graph_text_clean_set_size</th>\n",
       "      <td>0.928571</td>\n",
       "      <td>1.000000</td>\n",
       "    </tr>\n",
       "  </tbody>\n",
       "</table>\n",
       "</div>"
      ],
      "text/plain": [
       "                             content_text_clean_set_size   \n",
       "content_text_clean_set_size                     1.000000  \\\n",
       "graph_text_clean_set_size                       0.928571   \n",
       "\n",
       "                             graph_text_clean_set_size  \n",
       "content_text_clean_set_size                   0.928571  \n",
       "graph_text_clean_set_size                     1.000000  "
      ]
     },
     "execution_count": 39,
     "metadata": {},
     "output_type": "execute_result"
    }
   ],
   "source": [
    "pdf[['content_text_clean_set_size', 'graph_text_clean_set_size']].corr(method='kendall')"
   ]
  },
  {
   "cell_type": "code",
   "execution_count": 40,
   "metadata": {},
   "outputs": [
    {
     "data": {
      "text/plain": [
       "<Axes: xlabel='content_text_clean_set_size', ylabel='graph_text_clean_set_size'>"
      ]
     },
     "execution_count": 40,
     "metadata": {},
     "output_type": "execute_result"
    },
    {
     "data": {
      "image/png": "[encoded data removed]",
      "text/plain": [
       "<Figure size 640x480 with 1 Axes>"
      ]
     },
     "metadata": {},
     "output_type": "display_data"
    }
   ],
   "source": [
    "pdf.plot.scatter(x='content_text_clean_set_size', y='graph_text_clean_set_size')"
   ]
  },
  {
   "cell_type": "code",
   "execution_count": null,
   "metadata": {},
   "outputs": [],
   "source": [
    "# samples where the graph text set size is greater than the content text set size by more than 50%\n",
    "pdf['ratio'] = 1 - pdf['graph_text_clean_set_size'] / pdf['content_text_clean_set_size']\n",
    "pdf['ratio'] = pdf['ratio'].abs()\n",
    "for r in pdf[pdf['ratio'] > .5].iterrows():\n",
    "    print(r[0])\n",
    "    print(r[1]['url'])\n",
    "    pprint(r[1]['content_text_clean'])\n",
    "    print('\\n----------------\\n') \n",
    "    pprint(r[1]['graph_text_clean'])\n",
    "    print(r[1]['ratio'])\n",
    "    print('\\n\\n\\n\\n')"
   ]
  },
  {
   "attachments": {},
   "cell_type": "markdown",
   "metadata": {},
   "source": [
    "## Jaccard similarity of tokens set"
   ]
  },
  {
   "cell_type": "code",
   "execution_count": 27,
   "metadata": {},
   "outputs": [],
   "source": [
    "# Jaccard similarity of tokens set\n",
    "pdf['token_set_jaccard_similarity'] = pdf.apply(lambda x: jaccard_similarity(x['content_text_clean_set'], x['graph_text_clean_set']), axis=1)"
   ]
  },
  {
   "cell_type": "code",
   "execution_count": 28,
   "metadata": {},
   "outputs": [
    {
     "data": {
      "text/plain": [
       "<Axes: xlabel='token_set_jaccard_similarity', ylabel='Count'>"
      ]
     },
     "execution_count": 28,
     "metadata": {},
     "output_type": "execute_result"
    },
    {
     "data": {
      "image/png": "[encoded data removed]",
      "text/plain": [
       "<Figure size 640x480 with 1 Axes>"
      ]
     },
     "metadata": {},
     "output_type": "display_data"
    }
   ],
   "source": [
    "sns.histplot(pdf['token_set_jaccard_similarity'], kde=True)"
   ]
  },
  {
   "cell_type": "code",
   "execution_count": null,
   "metadata": {},
   "outputs": [],
   "source": [
    "#sample with a jaccard similarity under 0.8\n",
    "for r in pdf[pdf['token_set_jaccard_similarity'] < .8].iterrows():\n",
    "    print(r[0])\n",
    "    print(r[1]['url'])\n",
    "    print('\\n----------------Content - Graph----------------') \n",
    "    pprint(set_difference(r[1]['content_text_clean_set'], r[1]['graph_text_clean_set']))\n",
    "    print('\\n----------------Graph - Content----------------')\n",
    "    pprint(set_difference(r[1]['graph_text_clean_set'], r[1]['content_text_clean_set']))\n",
    "    pprint(r[1]['content_text_clean'])\n",
    "    print('\\n----------------\\n') \n",
    "    pprint(r[1]['graph_text_clean'])\n",
    "    print(r[1]['token_set_jaccard_similarity'])\n",
    "    print('\\n\\n\\n\\n')"
   ]
  },
  {
   "attachments": {},
   "cell_type": "markdown",
   "metadata": {},
   "source": [
    "# Experiments"
   ]
  },
  {
   "cell_type": "code",
   "execution_count": 23,
   "metadata": {},
   "outputs": [],
   "source": [
    "websegmenter = WebSegmenter(url='https://www.patsnap.com/') #https://www.patsnap.com/ http://kumo.ai\n",
    "websegmenter.run()"
   ]
  },
  {
   "cell_type": "code",
   "execution_count": 28,
   "metadata": {},
   "outputs": [
    {
     "data": {
      "text/plain": [
       "networkx.classes.digraph.DiGraph"
      ]
     },
     "execution_count": 28,
     "metadata": {},
     "output_type": "execute_result"
    }
   ],
   "source": [
    "pdf = pd.read_csv('PE_relevant_sample_2023_05_23.csv')\n",
    "pdf = pickle.load(open('PE_relevant_sample_2023_05_23_with_analysis.pkl', 'rb'))\n",
    "pdf.head()\n",
    "\n",
    "type(pdf['graph'][0])\n"
   ]
  },
  {
   "cell_type": "code",
   "execution_count": 24,
   "metadata": {},
   "outputs": [],
   "source": [
    "graph_data = list(websegmenter.graph.nodes(data=True))"
   ]
  },
  {
   "cell_type": "code",
   "execution_count": 25,
   "metadata": {},
   "outputs": [
    {
     "data": {
      "text/plain": [
       "[('ba99e5176271ffecb5c59c9ba043e67a7103504e',\n",
       "  {'element_type': 'div',\n",
       "   'class': \"['fixed', 'top-0', 'left-0', 'w-full', 'bg-white', 'z-50']\",\n",
       "   'payload': None,\n",
       "   'link_meta': None}),\n",
       " ('456b89893d2433db83af1e28c0649f070a6ae5cd',\n",
       "  {'element_type': 'div',\n",
       "   'name_count': 3,\n",
       "   'item_index': 1,\n",
       "   'class': 'mx-auto_max-w-[1280px]_h-full_flex_items-center_justify-between',\n",
       "   'payload': None,\n",
       "   'link_meta': None}),\n",
       " ('4e355f4434d7490705b37195439383ec78fe9ffd',\n",
       "  {'element_type': 'ul',\n",
       "   'name_count': 0,\n",
       "   'item_index': 2,\n",
       "   'class': 'flex_items-center_h-full',\n",
       "   'payload': None,\n",
       "   'link_meta': None}),\n",
       " ('a82752648b9dcbdd1a5ddb3d567f3974c935818a',\n",
       "  {'element_type': 'a',\n",
       "   'name_count': 0,\n",
       "   'item_index': 3,\n",
       "   'class': 'mr-12',\n",
       "   'payload': {'href': 'https://www.patsnap.com/', 'text': ''},\n",
       "   'link_meta': {'href': 'https://www.patsnap.com/', 'text_payload': []}}),\n",
       " ('aec7a625020a73d210b52cba1c42363e628632d9',\n",
       "  {'element_type': 'li',\n",
       "   'name_count': 0,\n",
       "   'item_index': 4,\n",
       "   'class': 'tit-full-hover-div_h-full_each-li_pr-8',\n",
       "   'payload': None,\n",
       "   'link_meta': None}),\n",
       " ('2c3200b4e245387170081fc8ccff93e90f2b868d',\n",
       "  {'element_type': 'p',\n",
       "   'name_count': 1,\n",
       "   'item_index': 7,\n",
       "   'class': '',\n",
       "   'payload': {'href': None, 'text': 'Products & Services'},\n",
       "   'link_meta': None}),\n",
       " ('588416cf5fc902c4d54341e37c52edf30d3feb3a',\n",
       "  {'element_type': 'ul',\n",
       "   'name_count': 1,\n",
       "   'item_index': 7,\n",
       "   'class': 'mx-auto_max-w-[1280px]_pt-6_pb-9_flex_justify-between',\n",
       "   'payload': None,\n",
       "   'link_meta': None}),\n",
       " ('02e76daada6e6a4e531a6c5c1a30ad4aa6b90bd9',\n",
       "  {'element_type': 'li',\n",
       "   'name_count': 1,\n",
       "   'item_index': 8,\n",
       "   'class': 'w-[220px]',\n",
       "   'payload': None,\n",
       "   'link_meta': None}),\n",
       " ('67cc86cc54c21463b33ae2a5d2f4c1bcf5ff1775',\n",
       "  {'element_type': 'p',\n",
       "   'name_count': 3,\n",
       "   'item_index': 10,\n",
       "   'class': '',\n",
       "   'payload': {'href': None, 'text': 'IP Intelligence'},\n",
       "   'link_meta': None}),\n",
       " ('c270bebce17e4ddc7f5659af8b81a62a72445b99',\n",
       "  {'element_type': 'a',\n",
       "   'name_count': 1,\n",
       "   'item_index': 11,\n",
       "   'class': '',\n",
       "   'payload': {'href': 'https://www.patsnap.com/solutions/ip-intelligence/',\n",
       "    'text': ''},\n",
       "   'link_meta': {'href': 'https://www.patsnap.com/solutions/ip-intelligence/',\n",
       "    'text_payload': ['Patent Analytics']}}),\n",
       " ('36c1f112419e1523aee8a15381ede6a66dabe3ef',\n",
       "  {'element_type': 'li',\n",
       "   'name_count': 2,\n",
       "   'item_index': 9,\n",
       "   'class': 'w-[220px]',\n",
       "   'payload': None,\n",
       "   'link_meta': None}),\n",
       " ('62f28d631d42b17b33a8c845f99f5a1735e58d1f',\n",
       "  {'element_type': 'p',\n",
       "   'name_count': 6,\n",
       "   'item_index': 11,\n",
       "   'class': '',\n",
       "   'payload': {'href': None, 'text': 'R&D Intelligence'},\n",
       "   'link_meta': None}),\n",
       " ('8ba4287d11e62cc72ed20785324fe44a37a277bc',\n",
       "  {'element_type': 'a',\n",
       "   'name_count': 2,\n",
       "   'item_index': 12,\n",
       "   'class': '',\n",
       "   'payload': {'href': 'https://www.patsnap.com/solutions/eureka', 'text': ''},\n",
       "   'link_meta': {'href': 'https://www.patsnap.com/solutions/eureka',\n",
       "    'text_payload': ['Eureka']}}),\n",
       " ('7c31b9c31a2ae033b1b104a324052fb1798b55a3',\n",
       "  {'element_type': 'a',\n",
       "   'name_count': 3,\n",
       "   'item_index': 13,\n",
       "   'class': '',\n",
       "   'payload': {'href': 'https://www.patsnap.com/solutions/discovery/',\n",
       "    'text': ''},\n",
       "   'link_meta': {'href': 'https://www.patsnap.com/solutions/discovery/',\n",
       "    'text_payload': ['Discovery']}}),\n",
       " ('5b3852585187c90e1492b9c8939ab3cc84b39ba7',\n",
       "  {'element_type': 'li',\n",
       "   'name_count': 3,\n",
       "   'item_index': 10,\n",
       "   'class': 'w-[220px]',\n",
       "   'payload': None,\n",
       "   'link_meta': None}),\n",
       " ('bbbc11fb0fb534f5e25751ca0dbd45b6f381b711',\n",
       "  {'element_type': 'p',\n",
       "   'name_count': 10,\n",
       "   'item_index': 12,\n",
       "   'class': '',\n",
       "   'payload': {'href': None, 'text': 'Life Sciences Intelligence'},\n",
       "   'link_meta': None}),\n",
       " ('11e62eb0e9aeadb37369b6a5c38fbcb02046dbb8',\n",
       "  {'element_type': 'a',\n",
       "   'name_count': 4,\n",
       "   'item_index': 13,\n",
       "   'class': '',\n",
       "   'payload': {'href': 'https://www.patsnap.com/solutions/synapse/',\n",
       "    'text': ''},\n",
       "   'link_meta': {'href': 'https://www.patsnap.com/solutions/synapse/',\n",
       "    'text_payload': ['Synapse']}}),\n",
       " ('3f470a4d4d19ec2f614c86f9cef61f88cd74412d',\n",
       "  {'element_type': 'a',\n",
       "   'name_count': 5,\n",
       "   'item_index': 14,\n",
       "   'class': '',\n",
       "   'payload': {'href': 'https://www.patsnap.com/solutions/bio/', 'text': ''},\n",
       "   'link_meta': {'href': 'https://www.patsnap.com/solutions/bio/',\n",
       "    'text_payload': ['Bio']}}),\n",
       " ('bf391bfac0f269bcc296d745e65806cfbce46b99',\n",
       "  {'element_type': 'a',\n",
       "   'name_count': 6,\n",
       "   'item_index': 15,\n",
       "   'class': '',\n",
       "   'payload': {'href': 'https://www.patsnap.com/solutions/chemical/',\n",
       "    'text': ''},\n",
       "   'link_meta': {'href': 'https://www.patsnap.com/solutions/chemical/',\n",
       "    'text_payload': ['Chemical']}}),\n",
       " ('dd88981d2ba7b3104b0d4b938c1ee1a9e1cbbe75',\n",
       "  {'element_type': 'li',\n",
       "   'name_count': 4,\n",
       "   'item_index': 11,\n",
       "   'class': 'w-[220px]',\n",
       "   'payload': None,\n",
       "   'link_meta': None}),\n",
       " ('b757390b9809a88529317b6b0806ea29bbcf228e',\n",
       "  {'element_type': 'p',\n",
       "   'name_count': 15,\n",
       "   'item_index': 13,\n",
       "   'class': '',\n",
       "   'payload': {'href': None, 'text': 'Business Solutions'},\n",
       "   'link_meta': None}),\n",
       " ('f82b1b17c0c36322c1bc658a857360543e3cd14f',\n",
       "  {'element_type': 'a',\n",
       "   'name_count': 7,\n",
       "   'item_index': 14,\n",
       "   'class': '',\n",
       "   'payload': {'href': 'https://www.patsnap.com/solutions/business-solutions/ip-data-as-a-service/',\n",
       "    'text': ''},\n",
       "   'link_meta': {'href': 'https://www.patsnap.com/solutions/business-solutions/ip-data-as-a-service/',\n",
       "    'text_payload': ['IP data-as-a-service']}}),\n",
       " ('98a510fa2748b1ee1a2f360b066eba3ef5d4ca5c',\n",
       "  {'element_type': 'a',\n",
       "   'name_count': 8,\n",
       "   'item_index': 15,\n",
       "   'class': '',\n",
       "   'payload': {'href': 'https://www.patsnap.com/solutions/business-solutions/investor-solutions/',\n",
       "    'text': ''},\n",
       "   'link_meta': {'href': 'https://www.patsnap.com/solutions/business-solutions/investor-solutions/',\n",
       "    'text_payload': ['Investor solutions']}}),\n",
       " ('46de72d5ac7a6a0e3c596be97a85f9793b5764f6',\n",
       "  {'element_type': 'a',\n",
       "   'name_count': 9,\n",
       "   'item_index': 16,\n",
       "   'class': '',\n",
       "   'payload': {'href': 'https://www.patsnap.com/solutions/business-solutions/strategy-and-business/',\n",
       "    'text': ''},\n",
       "   'link_meta': {'href': 'https://www.patsnap.com/solutions/business-solutions/strategy-and-business/',\n",
       "    'text_payload': ['Strategy and business']}}),\n",
       " ('22ffabf1a180701b6149bf5b49c9d75cad1a7adc',\n",
       "  {'element_type': 'li',\n",
       "   'name_count': 5,\n",
       "   'item_index': 12,\n",
       "   'class': 'w-[220px]',\n",
       "   'payload': None,\n",
       "   'link_meta': None}),\n",
       " ('cae301f2d1a957f9f1df8a211b4d4b8603d34dcb',\n",
       "  {'element_type': 'p',\n",
       "   'name_count': 20,\n",
       "   'item_index': 14,\n",
       "   'class': '',\n",
       "   'payload': {'href': None, 'text': 'Other Services'},\n",
       "   'link_meta': None}),\n",
       " ('f4f180ba63b4d839558dad1999fb7514b96da61d',\n",
       "  {'element_type': 'a',\n",
       "   'name_count': 10,\n",
       "   'item_index': 15,\n",
       "   'class': '',\n",
       "   'payload': {'href': 'https://www.patsnap.com/solutions/professional-services/',\n",
       "    'text': ''},\n",
       "   'link_meta': {'href': 'https://www.patsnap.com/solutions/professional-services/',\n",
       "    'text_payload': ['Professional Services']}}),\n",
       " ('efc03fef93beb1a8ae4759314815021e007c1d94',\n",
       "  {'element_type': 'a',\n",
       "   'name_count': 11,\n",
       "   'item_index': 16,\n",
       "   'class': '',\n",
       "   'payload': {'href': 'https://www.patsnap.com/solutions/professional-services/platform-services/',\n",
       "    'text': ''},\n",
       "   'link_meta': {'href': 'https://www.patsnap.com/solutions/professional-services/platform-services/',\n",
       "    'text_payload': ['Platform Services']}}),\n",
       " ('ce9f3a63d0304d53d4cdf01cff7376bda0c8f274',\n",
       "  {'element_type': 'a',\n",
       "   'name_count': 12,\n",
       "   'item_index': 17,\n",
       "   'class': '',\n",
       "   'payload': {'href': 'https://www.patsnap.com/solutions/professional-services/research-and-analytics-services/',\n",
       "    'text': ''},\n",
       "   'link_meta': {'href': 'https://www.patsnap.com/solutions/professional-services/research-and-analytics-services/',\n",
       "    'text_payload': ['Research Services']}}),\n",
       " ('2a4f14aefb4e92b1bf77ae50f081700f3c404e91',\n",
       "  {'element_type': 'a',\n",
       "   'name_count': 13,\n",
       "   'item_index': 18,\n",
       "   'class': '',\n",
       "   'payload': {'href': 'https://www.patsnap.com/solutions/professional-services/search-services/',\n",
       "    'text': ''},\n",
       "   'link_meta': {'href': 'https://www.patsnap.com/solutions/professional-services/search-services/',\n",
       "    'text_payload': ['Search Services']}}),\n",
       " ('e5fde3c3d720b982a05520f9aa5617ed8f7b6315',\n",
       "  {'element_type': 'li',\n",
       "   'name_count': 6,\n",
       "   'item_index': 5,\n",
       "   'class': 'tit-hover_h-full_each-li_relative_pr-8',\n",
       "   'payload': None,\n",
       "   'link_meta': None}),\n",
       " ('98f322795d363a5d858db429a8f0cd2d242aa964',\n",
       "  {'element_type': 'p',\n",
       "   'name_count': 26,\n",
       "   'item_index': 8,\n",
       "   'class': '',\n",
       "   'payload': {'href': None, 'text': 'Resources'},\n",
       "   'link_meta': None}),\n",
       " ('378fa50658f34fa4eb95d9bf65dea5f487d190fe',\n",
       "  {'element_type': 'ul',\n",
       "   'name_count': 2,\n",
       "   'item_index': 8,\n",
       "   'class': 'px-6_py-7_rounded',\n",
       "   'payload': None,\n",
       "   'link_meta': None}),\n",
       " ('14d9cb70fb5b3dbc5c4f95e35485f048fdfd11d1',\n",
       "  {'element_type': 'a',\n",
       "   'name_count': 14,\n",
       "   'item_index': 10,\n",
       "   'class': '',\n",
       "   'payload': {'href': 'https://www.patsnap.com/resources/', 'text': ''},\n",
       "   'link_meta': {'href': 'https://www.patsnap.com/resources/',\n",
       "    'text_payload': ['Resources']}}),\n",
       " ('088135cbed41a802a3759aa9c63cfa5e0dcc7099',\n",
       "  {'element_type': 'a',\n",
       "   'name_count': 15,\n",
       "   'item_index': 11,\n",
       "   'class': '',\n",
       "   'payload': {'href': 'https://www.patsnap.com/customers/', 'text': ''},\n",
       "   'link_meta': {'href': 'https://www.patsnap.com/customers/',\n",
       "    'text_payload': ['Success Stories']}}),\n",
       " ('1da5b439cfef5148227000b2fa9f2b15a262ec0d',\n",
       "  {'element_type': 'a',\n",
       "   'name_count': 16,\n",
       "   'item_index': 12,\n",
       "   'class': '',\n",
       "   'payload': {'href': 'https://www.patsnap.com/cii-newsletter/', 'text': ''},\n",
       "   'link_meta': {'href': 'https://www.patsnap.com/cii-newsletter/',\n",
       "    'text_payload': ['Newsletter']}}),\n",
       " ('4b61dd49bf615a27a905a3159d365d1bbf18331e',\n",
       "  {'element_type': 'a',\n",
       "   'name_count': 17,\n",
       "   'item_index': 13,\n",
       "   'class': '',\n",
       "   'payload': {'href': 'https://academy.patsnap.com/', 'text': ''},\n",
       "   'link_meta': {'href': 'https://academy.patsnap.com/',\n",
       "    'text_payload': ['Innovation Academy']}}),\n",
       " ('7473f25ce423943698519a07c74feca627edf031',\n",
       "  {'element_type': 'a',\n",
       "   'name_count': 18,\n",
       "   'item_index': 14,\n",
       "   'class': '',\n",
       "   'payload': {'href': 'https://www.patsnap.com/glossary/', 'text': ''},\n",
       "   'link_meta': {'href': 'https://www.patsnap.com/glossary/',\n",
       "    'text_payload': ['Glossary']}}),\n",
       " ('b7614f60eeef6a42fa2a64e1a62f00c065bc5788',\n",
       "  {'element_type': 'a',\n",
       "   'name_count': 19,\n",
       "   'item_index': 15,\n",
       "   'class': '',\n",
       "   'payload': {'href': 'https://www.patsnap.com/data', 'text': ''},\n",
       "   'link_meta': {'href': 'https://www.patsnap.com/data',\n",
       "    'text_payload': ['Data Coverage']}}),\n",
       " ('292c7da51c2827a0cec978c9b25c27cebb25a69c',\n",
       "  {'element_type': 'li',\n",
       "   'name_count': 13,\n",
       "   'item_index': 6,\n",
       "   'class': 'tit-hover_h-full_each-li_relative_pr-8',\n",
       "   'payload': None,\n",
       "   'link_meta': None}),\n",
       " ('438c93f46f42d81d2b9a6ace7d9d7a982f7d2aaa',\n",
       "  {'element_type': 'p',\n",
       "   'name_count': 34,\n",
       "   'item_index': 9,\n",
       "   'class': '',\n",
       "   'payload': {'href': None, 'text': 'Why Patsnap'},\n",
       "   'link_meta': None}),\n",
       " ('22f77dd0a51a9b817b03a5171cafb666a8eefa31',\n",
       "  {'element_type': 'ul',\n",
       "   'name_count': 3,\n",
       "   'item_index': 9,\n",
       "   'class': 'px-6_py-7_rounded',\n",
       "   'payload': None,\n",
       "   'link_meta': None}),\n",
       " ('c7a4cea8e7c6c2c51338e543bca7f867b7503a50',\n",
       "  {'element_type': 'a',\n",
       "   'name_count': 20,\n",
       "   'item_index': 11,\n",
       "   'class': '',\n",
       "   'payload': {'href': 'https://www.patsnap.com/why-patsnap/', 'text': ''},\n",
       "   'link_meta': {'href': 'https://www.patsnap.com/why-patsnap/',\n",
       "    'text_payload': ['Why Patsnap']}}),\n",
       " ('9c423475a98223c9c6018e477645f816cd9f9b67',\n",
       "  {'element_type': 'a',\n",
       "   'name_count': 21,\n",
       "   'item_index': 12,\n",
       "   'class': '',\n",
       "   'payload': {'href': 'https://www.patsnap.com/why-patsnap/about-us/',\n",
       "    'text': ''},\n",
       "   'link_meta': {'href': 'https://www.patsnap.com/why-patsnap/about-us/',\n",
       "    'text_payload': ['About us']}}),\n",
       " ('fbeb8d41cd0011939dd03f84b65d333279de78fe',\n",
       "  {'element_type': 'a',\n",
       "   'name_count': 22,\n",
       "   'item_index': 13,\n",
       "   'class': '',\n",
       "   'payload': {'href': 'https://www.patsnap.com/contact-us/', 'text': ''},\n",
       "   'link_meta': {'href': 'https://www.patsnap.com/contact-us/',\n",
       "    'text_payload': ['Contact us']}}),\n",
       " ('5f75d193bcba92011bfeca3aebe69a745670ad2b',\n",
       "  {'element_type': 'a',\n",
       "   'name_count': 23,\n",
       "   'item_index': 14,\n",
       "   'class': '',\n",
       "   'payload': {'href': 'https://www.patsnap.com/careers/', 'text': ''},\n",
       "   'link_meta': {'href': 'https://www.patsnap.com/careers/',\n",
       "    'text_payload': ['Careers']}}),\n",
       " ('1081155e839f2eaf809b2d8502b4097f65f187ec',\n",
       "  {'element_type': 'a',\n",
       "   'name_count': 24,\n",
       "   'item_index': 15,\n",
       "   'class': '',\n",
       "   'payload': {'href': 'https://help.patsnap.com/hc/en-us', 'text': ''},\n",
       "   'link_meta': {'href': 'https://help.patsnap.com/hc/en-us',\n",
       "    'text_payload': ['Help center']}}),\n",
       " ('60367dd9e4acf9453464e9b730e94c7106e52b87',\n",
       "  {'element_type': 'ul',\n",
       "   'name_count': 4,\n",
       "   'item_index': 3,\n",
       "   'class': 'flex_items-center_h-full',\n",
       "   'payload': None,\n",
       "   'link_meta': None}),\n",
       " ('46329983f5523c69dd33a513ab520d7e8bdb7a46',\n",
       "  {'element_type': 'a',\n",
       "   'name_count': 25,\n",
       "   'item_index': 4,\n",
       "   'class': 'cursor-pointer_h-10_leading-10_w-[169px]_bg-[#0764E9]_rounded_text-center_text-white',\n",
       "   'payload': {'href': 'https://www.patsnap.com/request-a-demo/', 'text': ''},\n",
       "   'link_meta': {'href': 'https://www.patsnap.com/request-a-demo/',\n",
       "    'text_payload': ['Request a Demo']}}),\n",
       " ('0aa3e351bb52c96952f853470e47ce33e68431ff',\n",
       "  {'element_type': 'div',\n",
       "   'name_count': 25,\n",
       "   'item_index': 8,\n",
       "   'class': 'flex_flex-col',\n",
       "   'payload': None,\n",
       "   'link_meta': None}),\n",
       " ('4ce1ab26b436ffff25ba918ed43aee8cea4576b8',\n",
       "  {'element_type': 'a',\n",
       "   'name_count': 26,\n",
       "   'item_index': 9,\n",
       "   'class': 'h-8_px-2_leading-8_hover:bg-[#B3BAC5]_hover:bg-opacity-20',\n",
       "   'payload': {'href': 'https://www.zhihuiya.com/', 'text': ''},\n",
       "   'link_meta': {'href': 'https://www.zhihuiya.com/',\n",
       "    'text_payload': ['简体中文']}}),\n",
       " ('798995d2f0a9b75f1e270c5ffa4df67074f6667e',\n",
       "  {'element_type': 'a',\n",
       "   'name_count': 27,\n",
       "   'item_index': 10,\n",
       "   'class': 'px-2_rounded_flex_justify-between_h-8_leading-8_text-[#0764E9]',\n",
       "   'payload': {'href': 'javascript:void(0)', 'text': 'English'},\n",
       "   'link_meta': {'href': 'javascript:void(0)', 'text_payload': ['English']}}),\n",
       " ('a6427bb44378065ae9eed7be0c1bda74eccbce2b',\n",
       "  {'element_type': 'a',\n",
       "   'name_count': 28,\n",
       "   'item_index': 11,\n",
       "   'class': 'h-8_px-2_leading-8_hover:bg-[#B3BAC5]_hover:bg-opacity-20',\n",
       "   'payload': {'href': 'javascript:void(0)', 'text': ''},\n",
       "   'link_meta': {'href': 'javascript:void(0)', 'text_payload': ['日本語']}}),\n",
       " ('d89376a19f7bc8e513dbe6d3c05a79a9f9b80187',\n",
       "  {'element_type': 'a',\n",
       "   'name_count': 29,\n",
       "   'item_index': 12,\n",
       "   'class': 'h-8_px-2_leading-8_hover:bg-[#B3BAC5]_hover:bg-opacity-20',\n",
       "   'payload': {'href': 'javascript:void(0)', 'text': ''},\n",
       "   'link_meta': {'href': 'javascript:void(0)', 'text_payload': ['한국어']}}),\n",
       " ('fafd9059ea4ac36f051d5d8fb8816e109a194e9c',\n",
       "  {'element_type': 'a',\n",
       "   'name_count': 30,\n",
       "   'item_index': 7,\n",
       "   'class': 'hover:text-[#0764E9]',\n",
       "   'payload': {'href': 'https://www.patsnap.com/login/', 'text': ''},\n",
       "   'link_meta': {'href': 'https://www.patsnap.com/login/',\n",
       "    'text_payload': ['Login']}})]"
      ]
     },
     "execution_count": 25,
     "metadata": {},
     "output_type": "execute_result"
    }
   ],
   "source": [
    "graph_data"
   ]
  },
  {
   "cell_type": "code",
   "execution_count": 6,
   "metadata": {},
   "outputs": [
    {
     "data": {
      "text/plain": [
       "[('86f3108012c47c5730cf14e9e72d725c27da507a',\n",
       "  {'label': 'Benefits',\n",
       "   'score': 17,\n",
       "   'to_filter': False,\n",
       "   'item_class': 'has_grid'})]"
      ]
     },
     "execution_count": 6,
     "metadata": {},
     "output_type": "execute_result"
    }
   ],
   "source": [
    "websegmenter.search('Benefits')"
   ]
  },
  {
   "cell_type": "code",
   "execution_count": 7,
   "metadata": {},
   "outputs": [
    {
     "name": "stdout",
     "output_type": "stream",
     "text": [
      "{'id': '86f3108012c47c5730cf14e9e72d725c27da507a',\n",
      " 'content': [{'type': 'grid',\n",
      "              'payload': [{'type': 'grid_item',\n",
      "                           'payload': [{'type': 'atom',\n",
      "                                        'payload': 'We automate all major '\n",
      "                                                   'steps in the ML lifecycle '\n",
      "                                                   'from raw data ingestion to '\n",
      "                                                   'sustained production '\n",
      "                                                   'deployment'},\n",
      "                                       {'type': 'atom',\n",
      "                                        'payload': 'End to end predictive '\n",
      "                                                   'analytics automation'}],\n",
      "                           'index': 19},\n",
      "                          {'type': 'grid_item',\n",
      "                           'payload': [{'type': 'atom',\n",
      "                                        'payload': 'Query the future in our '\n",
      "                                                   '‘Predictive Querying’ '\n",
      "                                                   'language that is as easy '\n",
      "                                                   'to use as SQL'},\n",
      "                                       {'type': 'atom',\n",
      "                                        'payload': 'No ML experience '\n",
      "                                                   'required'}],\n",
      "                           'index': 20},\n",
      "                          {'type': 'grid_item',\n",
      "                           'payload': [{'type': 'atom',\n",
      "                                        'payload': 'Cutting edge AI'},\n",
      "                                       {'type': 'atom',\n",
      "                                        'payload': 'Leverage automated machine '\n",
      "                                                   'learning with state of the '\n",
      "                                                   'art'},\n",
      "                                       {'type': 'atom',\n",
      "                                        'payload': 'to drive higher accuracy '\n",
      "                                                   'even with less data'}],\n",
      "                           'index': 21},\n",
      "                          {'type': 'grid_item',\n",
      "                           'payload': [{'type': 'atom',\n",
      "                                        'payload': 'Deliver more predictions '\n",
      "                                                   'more quickly across every '\n",
      "                                                   'team, enabling your entire '\n",
      "                                                   'enterprise to more '\n",
      "                                                   'proactively choose the '\n",
      "                                                   'future you want'},\n",
      "                                       {'type': 'atom',\n",
      "                                        'payload': 'Transform your '\n",
      "                                                   'decision-making'}],\n",
      "                           'index': 22}],\n",
      "              'index': 13},\n",
      "             {'type': 'atom', 'payload': 'Benefits', 'index': 18}],\n",
      " 'links': [{'href': 'capabilities#inner-section-7',\n",
      "            'text_payload': ['Graph Neural Network technology']}]}\n"
     ]
    }
   ],
   "source": [
    "node_id = '86f3108012c47c5730cf14e9e72d725c27da507a'\n",
    "node_summary = websegmenter.summarize(node_id=node_id)\n",
    "pprint(node_summary,sort_dicts=False)"
   ]
  },
  {
   "cell_type": "code",
   "execution_count": 18,
   "metadata": {},
   "outputs": [],
   "source": [
    "def get_text_from_graph(graph_data):\n",
    "    txt = ''\n",
    "    for el in graph_data:\n",
    "        if 'payload' in el[1]:\n",
    "            if el[1]['payload']:\n",
    "                txt += el[1]['payload'].get('text')\n",
    "                if not txt.endswith('\\n'):\n",
    "                      txt += '\\n'\n",
    "        \n",
    "        if 'link_meta' in el[1]:\n",
    "            if el[1]['link_meta'] is not None:\n",
    "                if 'text_payload' in el[1]['link_meta'] and el[1]['link_meta'].get('text_payload'):\n",
    "                    for txt_tmp in el[1]['link_meta']['text_payload']:\n",
    "                        if not txt_tmp.endswith('\\n'):\n",
    "                            txt_tmp += '\\n'\n",
    "                        if not txt.endswith(txt_tmp):\n",
    "                            txt += txt_tmp\n",
    "    return txt"
   ]
  },
  {
   "cell_type": "code",
   "execution_count": 16,
   "metadata": {},
   "outputs": [],
   "source": [
    "txt = ''\n",
    "for el in graph_data:\n",
    "\n",
    "    # if 'text' in el[1]:\n",
    "    #     if el[1]['text']:\n",
    "    #         txt += el[1]['text']\n",
    "    #         txt += '\\n'\n",
    "\n",
    "    if 'payload' in el[1]:\n",
    "        if el[1]['payload']:\n",
    "            txt += el[1]['payload'].get('text')\n",
    "            txt += '\\n'\n",
    "    \n",
    "    if 'link_meta' in el[1]:\n",
    "        if el[1]['link_meta'] is not None:\n",
    "            if 'text_payload' in el[1]['link_meta'] and el[1]['link_meta'].get('text_payload'):\n",
    "                txt_tmp = ' '.join(el[1]['link_meta']['text_payload'])\n",
    "                txt_tmp += '\\n'\n",
    "                if not txt.endswith(txt_tmp):\n",
    "                    txt += txt_tmp\n",
    "            \n"
   ]
  },
  {
   "cell_type": "code",
   "execution_count": null,
   "metadata": {},
   "outputs": [],
   "source": [
    "print(get_text_from_graph(graph_data))"
   ]
  },
  {
   "cell_type": "code",
   "execution_count": null,
   "metadata": {},
   "outputs": [],
   "source": [
    "pdf[1].apply(lambda x: x['class'])"
   ]
  },
  {
   "cell_type": "code",
   "execution_count": null,
   "metadata": {},
   "outputs": [],
   "source": []
  }
 ],
 "metadata": {
  "kernelspec": {
   "display_name": "websegmenter",
   "language": "python",
   "name": "python3"
  },
  "language_info": {
   "codemirror_mode": {
    "name": "ipython",
    "version": 3
   },
   "file_extension": ".py",
   "mimetype": "text/x-python",
   "name": "python",
   "nbconvert_exporter": "python",
   "pygments_lexer": "ipython3",
   "version": "3.9.16"
  },
  "orig_nbformat": 4
 },
 "nbformat": 4,
 "nbformat_minor": 2
}
