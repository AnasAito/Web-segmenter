{
 "cells": [
  {
   "cell_type": "code",
   "execution_count": 1,
   "metadata": {},
   "outputs": [],
   "source": [
    "from utils import WebSegmenter,visualize_graph,get_summary\n",
    "import pprint"
   ]
  },
  {
   "cell_type": "code",
   "execution_count": 11,
   "metadata": {},
   "outputs": [
    {
     "name": "stdout",
     "output_type": "stream",
     "text": [
      "(6) Results\n",
      "[('85ab699e1cb5be8e79ad4141edd54243a7356b75',\n",
      "  {'item_class': 'links_list',\n",
      "   'label': 'Data Preparation',\n",
      "   'score': 7,\n",
      "   'to_filter': False}),\n",
      " ('cc62b005d3ae971d62e743acc3e873f492b1c39f',\n",
      "  {'item_class': 'links_list',\n",
      "   'label': 'Collaboration',\n",
      "   'score': 7,\n",
      "   'to_filter': False}),\n",
      " ('4cadb439c2c93f1bafd585a0b1e4710c3abc50fb',\n",
      "  {'item_class': 'links_list',\n",
      "   'label': 'AI and Us',\n",
      "   'score': 7,\n",
      "   'to_filter': False}),\n",
      " ('0f340b8d76de9538ac40ee4f47cb5270042968be',\n",
      "  {'item_class': 'links_list',\n",
      "   'label': 'Watch a Demo of Dataiku',\n",
      "   'score': 5,\n",
      "   'to_filter': False}),\n",
      " ('7bb54eed0b23b10c291746c67d21017aae8b2772',\n",
      "  {'item_class': 'links_list',\n",
      "   'label': 'Everyday AI, Extraordinary People',\n",
      "   'score': 4,\n",
      "   'to_filter': False}),\n",
      " ('e15a4858eb3be10bad574a7646e5af324bf410fb',\n",
      "  {'item_class': 'links_list',\n",
      "   'label': 'Watch a Demo of Dataiku',\n",
      "   'score': 3,\n",
      "   'to_filter': False})]\n",
      "--------------------\n",
      "First result summary\n",
      "--------------------\n",
      "{'id': '85ab699e1cb5be8e79ad4141edd54243a7356b75',\n",
      " 'content': [{'type': 'atom', 'payload': 'A Single Platform For', 'index': 18}],\n",
      " 'links': [{'href': 'https://www.dataiku.com/product/key-capabilities/data-visualization/',\n",
      "            'text_payload': ['Visualization']},\n",
      "           {'href': 'https://www.dataiku.com/product/key-capabilities/mlops/',\n",
      "            'text_payload': ['MLOps']},\n",
      "           {'href': 'https://www.dataiku.com/product/key-capabilities/analytic-apps/',\n",
      "            'text_payload': ['Analytic Apps']},\n",
      "           {'href': 'https://www.dataiku.com/product/key-capabilities/machine-learning/',\n",
      "            'text_payload': ['Machine Learning']},\n",
      "           {'href': 'https://www.dataiku.com/product/key-capabilities/dataops/',\n",
      "            'text_payload': ['DataOps']},\n",
      "           {'href': 'https://www.dataiku.com/product/key-capabilities/data-preparation/',\n",
      "            'text_payload': ['Data Preparation']}]}\n"
     ]
    }
   ],
   "source": [
    "websegmenter = WebSegmenter(url='https://www.dataiku.com/')\n",
    "websegmenter.run()\n",
    "results = websegmenter.search(keyword = 'product',\n",
    "                              advance_search = {\n",
    "                                'item_class_in' : ['links_list'],\n",
    "                                'search_in_links' : True\n",
    "                              }\n",
    "                              )\n",
    "# results = websegmenter.search('product')\n",
    "print(f'({len(results)}) Results')\n",
    "pprint.pprint(results)\n",
    "print('--------------------')\n",
    "print('First result summary')\n",
    "print('--------------------')\n",
    "try : \n",
    "    node_id = results[0][0]\n",
    "    # node_id = '85ab699e1cb5be8e79ad4141edd54243a7356b75'\n",
    "    node_summary = websegmenter.summarize(node_id=node_id)\n",
    "    pprint.pprint(node_summary,sort_dicts=False)\n",
    "except : \n",
    "    print('No results found ...')"
   ]
  },
  {
   "cell_type": "code",
   "execution_count": 3,
   "metadata": {},
   "outputs": [
    {
     "data": {
      "text/plain": [
       "{'id': '85ab699e1cb5be8e79ad4141edd54243a7356b75',\n",
       " 'content': [{'type': 'atom',\n",
       "   'payload': 'A Single Platform For',\n",
       "   'index': 18}],\n",
       " 'links': [{'href': 'https://www.dataiku.com/product/key-capabilities/mlops/',\n",
       "   'text_payload': ['MLOps']},\n",
       "  {'href': 'https://www.dataiku.com/product/key-capabilities/data-visualization/',\n",
       "   'text_payload': ['Visualization']},\n",
       "  {'href': 'https://www.dataiku.com/product/key-capabilities/dataops/',\n",
       "   'text_payload': ['DataOps']},\n",
       "  {'href': 'https://www.dataiku.com/product/key-capabilities/machine-learning/',\n",
       "   'text_payload': ['Machine Learning']},\n",
       "  {'href': 'https://www.dataiku.com/product/key-capabilities/analytic-apps/',\n",
       "   'text_payload': ['Analytic Apps']},\n",
       "  {'href': 'https://www.dataiku.com/product/key-capabilities/data-preparation/',\n",
       "   'text_payload': ['Data Preparation']}]}"
      ]
     },
     "execution_count": 3,
     "metadata": {},
     "output_type": "execute_result"
    }
   ],
   "source": [
    "get_summary(websegmenter.graph, node_id = '85ab699e1cb5be8e79ad4141edd54243a7356b75')"
   ]
  },
  {
   "cell_type": "code",
   "execution_count": 6,
   "metadata": {},
   "outputs": [
    {
     "name": "stdout",
     "output_type": "stream",
     "text": [
      "Warning: When  cdn_resources is 'local' jupyter notebook has issues displaying graphics on chrome/safari. Use cdn_resources='in_line' or cdn_resources='remote' if you have issues viewing graphics in a notebook.\n",
      "nx_None.html\n"
     ]
    }
   ],
   "source": [
    "# visualize a node \n",
    "visualize_graph(websegmenter.graph , root_node = '85ab699e1cb5be8e79ad4141edd54243a7356b75')"
   ]
  }
 ],
 "metadata": {
  "kernelspec": {
   "display_name": "Python 3",
   "language": "python",
   "name": "python3"
  },
  "language_info": {
   "codemirror_mode": {
    "name": "ipython",
    "version": 3
   },
   "file_extension": ".py",
   "mimetype": "text/x-python",
   "name": "python",
   "nbconvert_exporter": "python",
   "pygments_lexer": "ipython3",
   "version": "3.10.11"
  },
  "orig_nbformat": 4
 },
 "nbformat": 4,
 "nbformat_minor": 2
}
