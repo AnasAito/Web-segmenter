{
 "cells": [
  {
   "cell_type": "code",
   "execution_count": 1,
   "metadata": {},
   "outputs": [],
   "source": [
    "from utils import WebSegmenter,visualize_graph,get_summary\n",
    "import pprint"
   ]
  },
  {
   "cell_type": "code",
   "execution_count": 5,
   "metadata": {},
   "outputs": [
    {
     "name": "stdout",
     "output_type": "stream",
     "text": [
      "(3) Results\n",
      "[('8b9f3c7c0f82e7bd62d572114a803afd3bde52eb',\n",
      "  {'item_class': 'other',\n",
      "   'label': 'Solutions',\n",
      "   'score': 25,\n",
      "   'to_filter': False}),\n",
      " ('048f370ec87e5da611f5725fc23efacd7ebdbbeb',\n",
      "  {'item_class': 'is_paragraph',\n",
      "   'label': 'Solutions',\n",
      "   'score': 10,\n",
      "   'to_filter': False}),\n",
      " ('34de06fe66eb397a37656c62d0111e95eb304dda',\n",
      "  {'item_class': 'is_paragraph',\n",
      "   'label': 'Entity Resolution and Knowledge Graph Enrichment',\n",
      "   'score': 2,\n",
      "   'to_filter': False})]\n",
      "--------------------\n",
      "First result summary\n",
      "--------------------\n",
      "{'id': '048f370ec87e5da611f5725fc23efacd7ebdbbeb',\n",
      " 'content': [],\n",
      " 'links': [{'href': '/personalization',\n",
      "            'text_payload': ['Ensure that every touchpoint with your customer '\n",
      "                             'is as delightful as possible and drives '\n",
      "                             'long-term engagement while improving product '\n",
      "                             'sales',\n",
      "                             'Personalization']},\n",
      "           {'href': '/forecasting-and-anomaly-detection',\n",
      "            'text_payload': ['Forecasting and Anomaly Detection',\n",
      "                             'Improve your ability to forecast, plan, and '\n",
      "                             'monitor every aspect of your enterprise']},\n",
      "           {'href': '/anti-money-laundering',\n",
      "            'text_payload': ['Improve your ability to detect all kinds of '\n",
      "                             'illicit financial activity and revolutionize '\n",
      "                             'your anti-money laundering efforts',\n",
      "                             'Anti Money Laundering']},\n",
      "           {'href': '/solutions', 'text_payload': ['Solutions']},\n",
      "           {'href': '/entity-resolution-and-knowledge-graph-enrichment',\n",
      "            'text_payload': ['Entity Resolution and Knowledge Graph Enrichment',\n",
      "                             'Improve your understanding of each one of your '\n",
      "                             'customers, vendors, products, and other business '\n",
      "                             'entities, thus enriching every business workflow '\n",
      "                             'you have that interacts with them']},\n",
      "           {'href': '/fraud-and-abuse-detection',\n",
      "            'text_payload': ['Fraud and abuse detection',\n",
      "                             'Improve your ability to detect and prevent all '\n",
      "                             'kinds of fraud and abuse by your users that '\n",
      "                             'could otherwise cause massive damage to your '\n",
      "                             'business']},\n",
      "           {'href': '/embeddings-for-data-scientists',\n",
      "            'text_payload': ['Generate high-quality bespoke vector embeddings '\n",
      "                             'for every entity in your business, including '\n",
      "                             'customers, suppliers, content, transactions, and '\n",
      "                             'more. Vectorize your enterprise',\n",
      "                             'Embeddings for Data Scientists']},\n",
      "           {'href': '/customer-retention-and-next-best-action',\n",
      "            'text_payload': ['Deeply understand each of your customers and '\n",
      "                             'ensure you do what it takes to prevent churn, '\n",
      "                             'encourage higher levels of spending over time',\n",
      "                             'Customer Retention and Next Best Action']},\n",
      "           {'href': '/customer-acquisition',\n",
      "            'text_payload': ['Turbocharge your efforts to acquire new '\n",
      "                             'customers while dramatically cutting acquisition '\n",
      "                             'costs',\n",
      "                             'Customer Acquisition']}]}\n"
     ]
    }
   ],
   "source": [
    "websegmenter = WebSegmenter(url='https://kumo.ai/')\n",
    "websegmenter.run()\n",
    "# pprint.pprint(websegmenter.ranked_nodes)\n",
    "results = websegmenter.search(keyword = 'solution',\n",
    "                              # advance_search = {\n",
    "                              #   'item_class_in' : ['links_list'],\n",
    "                              #   'search_in_links' : True\n",
    "                              # }\n",
    "                              )\n",
    "# results = websegmenter.search('product')\n",
    "print(f'({len(results)}) Results')\n",
    "pprint.pprint(results)\n",
    "print('--------------------')\n",
    "print('First result summary')\n",
    "print('--------------------')\n",
    "try : \n",
    "    node_id = results[0][0]\n",
    "    node_id = '048f370ec87e5da611f5725fc23efacd7ebdbbeb'\n",
    "    node_summary = websegmenter.summarize(node_id=node_id)\n",
    "    pprint.pprint(node_summary,sort_dicts=False)\n",
    "except : \n",
    "    print('No results found ...')"
   ]
  },
  {
   "cell_type": "code",
   "execution_count": 9,
   "metadata": {},
   "outputs": [
    {
     "data": {
      "text/plain": [
       "NodeView(('ce30f33ab11e0cb63862141c2e9cf751471be252', '26e68475350f692a173d14866dc994c48e03b362', '044ab77c9608c9976f0f32cd0537b25a802667db', '9086143d83e0d8af8e91a4fcebe6473047dc8546', '2c3200b4e245387170081fc8ccff93e90f2b868d', '796831a1dc53278e8598f6430cea775fb876728d', '0a7c55a915bac64b5ea4cf849d2b3f503835ab3d', '140df65901a40d4f7a292d600e89e1450bcd0e6c', '6c6f8f94407104c35a5db2f8ea303596754afa01', '62f28d631d42b17b33a8c845f99f5a1735e58d1f'))"
      ]
     },
     "execution_count": 9,
     "metadata": {},
     "output_type": "execute_result"
    }
   ],
   "source": [
    "websegmenter.graph.nodes"
   ]
  },
  {
   "cell_type": "code",
   "execution_count": 3,
   "metadata": {},
   "outputs": [
    {
     "data": {
      "text/plain": [
       "{'id': '85ab699e1cb5be8e79ad4141edd54243a7356b75',\n",
       " 'content': [{'type': 'atom',\n",
       "   'payload': 'A Single Platform For',\n",
       "   'index': 18}],\n",
       " 'links': [{'href': 'https://www.dataiku.com/product/key-capabilities/mlops/',\n",
       "   'text_payload': ['MLOps']},\n",
       "  {'href': 'https://www.dataiku.com/product/key-capabilities/data-visualization/',\n",
       "   'text_payload': ['Visualization']},\n",
       "  {'href': 'https://www.dataiku.com/product/key-capabilities/dataops/',\n",
       "   'text_payload': ['DataOps']},\n",
       "  {'href': 'https://www.dataiku.com/product/key-capabilities/machine-learning/',\n",
       "   'text_payload': ['Machine Learning']},\n",
       "  {'href': 'https://www.dataiku.com/product/key-capabilities/analytic-apps/',\n",
       "   'text_payload': ['Analytic Apps']},\n",
       "  {'href': 'https://www.dataiku.com/product/key-capabilities/data-preparation/',\n",
       "   'text_payload': ['Data Preparation']}]}"
      ]
     },
     "execution_count": 3,
     "metadata": {},
     "output_type": "execute_result"
    }
   ],
   "source": [
    "get_summary(websegmenter.graph, node_id = '85ab699e1cb5be8e79ad4141edd54243a7356b75')"
   ]
  },
  {
   "cell_type": "code",
   "execution_count": 8,
   "metadata": {},
   "outputs": [
    {
     "name": "stdout",
     "output_type": "stream",
     "text": [
      "Warning: When  cdn_resources is 'local' jupyter notebook has issues displaying graphics on chrome/safari. Use cdn_resources='in_line' or cdn_resources='remote' if you have issues viewing graphics in a notebook.\n",
      "nx_None.html\n"
     ]
    }
   ],
   "source": [
    "# visualize a node \n",
    "visualize_graph(websegmenter.graph )"
   ]
  }
 ],
 "metadata": {
  "kernelspec": {
   "display_name": "Python 3",
   "language": "python",
   "name": "python3"
  },
  "language_info": {
   "codemirror_mode": {
    "name": "ipython",
    "version": 3
   },
   "file_extension": ".py",
   "mimetype": "text/x-python",
   "name": "python",
   "nbconvert_exporter": "python",
   "pygments_lexer": "ipython3",
   "version": "3.10.11"
  },
  "orig_nbformat": 4
 },
 "nbformat": 4,
 "nbformat_minor": 2
}
