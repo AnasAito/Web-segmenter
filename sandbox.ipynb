{
 "cells": [
  {
   "cell_type": "code",
   "execution_count": 1,
   "metadata": {},
   "outputs": [],
   "source": [
    "from utils import WebSegmenter,visualize_graph,get_summary\n",
    "import pprint"
   ]
  },
  {
   "cell_type": "code",
   "execution_count": 2,
   "metadata": {},
   "outputs": [
    {
     "name": "stdout",
     "output_type": "stream",
     "text": [
      "no content found in body\n"
     ]
    }
   ],
   "source": [
    "websegmenter = WebSegmenter(url='http://maistro.ru')\n",
    "websegmenter.run()\n",
    "# pprint.pprint(websegmenter.ranked_nodes)\n",
    "\n"
   ]
  },
  {
   "cell_type": "code",
   "execution_count": null,
   "metadata": {},
   "outputs": [],
   "source": []
  },
  {
   "cell_type": "code",
   "execution_count": 8,
   "metadata": {},
   "outputs": [
    {
     "data": {
      "text/plain": [
       "<utils.WebSegmenter at 0x1f4ca0cb430>"
      ]
     },
     "execution_count": 8,
     "metadata": {},
     "output_type": "execute_result"
    }
   ],
   "source": [
    "websegmenter"
   ]
  },
  {
   "cell_type": "code",
   "execution_count": 4,
   "metadata": {},
   "outputs": [
    {
     "data": {
      "text/plain": [
       "0"
      ]
     },
     "execution_count": 4,
     "metadata": {},
     "output_type": "execute_result"
    }
   ],
   "source": [
    "len(websegmenter.graph)"
   ]
  },
  {
   "cell_type": "code",
   "execution_count": null,
   "metadata": {},
   "outputs": [],
   "source": [
    "                              # advance_search = {\n",
    "                              #   'item_class_in' : ['links_list'],\n",
    "                              #   'search_in_links' : True\n",
    "                              # }\n",
    "                              )\n",
    "# results = websegmenter.search('product')\n",
    "print(f'({len(results)}) Results')\n",
    "pprint.pprint(results)\n",
    "print('--------------------')\n",
    "print('First result summary')\n",
    "print('--------------------')\n",
    "try : \n",
    "    node_id = results[0][0]\n",
    "    node_id = '048f370ec87e5da611f5725fc23efacd7ebdbbeb'\n",
    "    node_summary = websegmenter.summarize(node_id=node_id)\n",
    "    pprint.pprint(node_summary,sort_dicts=False)\n",
    "except : \n",
    "    print('No results found ...')"
   ]
  },
  {
   "cell_type": "code",
   "execution_count": 9,
   "metadata": {},
   "outputs": [
    {
     "data": {
      "text/plain": [
       "NodeView(('ce30f33ab11e0cb63862141c2e9cf751471be252', '26e68475350f692a173d14866dc994c48e03b362', '044ab77c9608c9976f0f32cd0537b25a802667db', '9086143d83e0d8af8e91a4fcebe6473047dc8546', '2c3200b4e245387170081fc8ccff93e90f2b868d', '796831a1dc53278e8598f6430cea775fb876728d', '0a7c55a915bac64b5ea4cf849d2b3f503835ab3d', '140df65901a40d4f7a292d600e89e1450bcd0e6c', '6c6f8f94407104c35a5db2f8ea303596754afa01', '62f28d631d42b17b33a8c845f99f5a1735e58d1f'))"
      ]
     },
     "execution_count": 9,
     "metadata": {},
     "output_type": "execute_result"
    }
   ],
   "source": [
    "websegmenter.graph.nodes"
   ]
  },
  {
   "cell_type": "code",
   "execution_count": 3,
   "metadata": {},
   "outputs": [
    {
     "data": {
      "text/plain": [
       "{'id': '85ab699e1cb5be8e79ad4141edd54243a7356b75',\n",
       " 'content': [{'type': 'atom',\n",
       "   'payload': 'A Single Platform For',\n",
       "   'index': 18}],\n",
       " 'links': [{'href': 'https://www.dataiku.com/product/key-capabilities/mlops/',\n",
       "   'text_payload': ['MLOps']},\n",
       "  {'href': 'https://www.dataiku.com/product/key-capabilities/data-visualization/',\n",
       "   'text_payload': ['Visualization']},\n",
       "  {'href': 'https://www.dataiku.com/product/key-capabilities/dataops/',\n",
       "   'text_payload': ['DataOps']},\n",
       "  {'href': 'https://www.dataiku.com/product/key-capabilities/machine-learning/',\n",
       "   'text_payload': ['Machine Learning']},\n",
       "  {'href': 'https://www.dataiku.com/product/key-capabilities/analytic-apps/',\n",
       "   'text_payload': ['Analytic Apps']},\n",
       "  {'href': 'https://www.dataiku.com/product/key-capabilities/data-preparation/',\n",
       "   'text_payload': ['Data Preparation']}]}"
      ]
     },
     "execution_count": 3,
     "metadata": {},
     "output_type": "execute_result"
    }
   ],
   "source": [
    "get_summary(websegmenter.graph, node_id = '85ab699e1cb5be8e79ad4141edd54243a7356b75')"
   ]
  },
  {
   "cell_type": "code",
   "execution_count": 8,
   "metadata": {},
   "outputs": [
    {
     "name": "stdout",
     "output_type": "stream",
     "text": [
      "Warning: When  cdn_resources is 'local' jupyter notebook has issues displaying graphics on chrome/safari. Use cdn_resources='in_line' or cdn_resources='remote' if you have issues viewing graphics in a notebook.\n",
      "nx_None.html\n"
     ]
    }
   ],
   "source": [
    "# visualize a node \n",
    "visualize_graph(websegmenter.graph )"
   ]
  }
 ],
 "metadata": {
  "kernelspec": {
   "display_name": "Python 3",
   "language": "python",
   "name": "python3"
  },
  "language_info": {
   "codemirror_mode": {
    "name": "ipython",
    "version": 3
   },
   "file_extension": ".py",
   "mimetype": "text/x-python",
   "name": "python",
   "nbconvert_exporter": "python",
   "pygments_lexer": "ipython3",
   "version": "3.9.16"
  },
  "orig_nbformat": 4
 },
 "nbformat": 4,
 "nbformat_minor": 2
}
