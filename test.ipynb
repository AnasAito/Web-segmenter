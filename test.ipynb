{
 "cells": [
  {
   "cell_type": "code",
   "execution_count": 1,
   "metadata": {},
   "outputs": [],
   "source": [
    "from utils import WebSegmenter,visualize_graph\n",
    "import pprint"
   ]
  },
  {
   "cell_type": "code",
   "execution_count": 8,
   "metadata": {},
   "outputs": [
    {
     "name": "stdout",
     "output_type": "stream",
     "text": [
      "[('f6ad12df8ad56e13cca73359083ed2c1cd914424',\n",
      "  {'label': 'Customers', 'score': 31, 'to_filter': False}),\n",
      " ('8c5a8eeaef3ea10042e93ef9e54943a727e9ec67',\n",
      "  {'label': 'Customers', 'score': 10, 'to_filter': False}),\n",
      " ('2f9c6c57e5ce2e820d75cfe6ddb9c926323e7266',\n",
      "  {'label': 'Seamless.AIâ\\x80\\x99s search engine helps you connect directly '\n",
      "            'with your ideal customers so you can build pipeline, shorten your '\n",
      "            'sales cycle, and close more deals at scale. Leverage our '\n",
      "            'real-time people search engine to build a massive list of',\n",
      "   'score': 2,\n",
      "   'to_filter': True})]\n",
      "not leaf or grid 6fa0f7d7a1280003364b58f3892f0f57b56b7b20\n",
      "________________\n",
      "{'id': 'f6ad12df8ad56e13cca73359083ed2c1cd914424',\n",
      " 'content': ([{'type': 'atom', 'payload': 'Customers', 'index': 10},\n",
      "              {'type': 'atom', 'payload': 'Explore', 'index': 14},\n",
      "              {'type': 'atom', 'payload': 'Why Seamless', 'index': 14},\n",
      "              {'type': 'atom', 'payload': 'Resources', 'index': 15},\n",
      "              {'type': 'atom',\n",
      "               'payload': 'Getting Started with Seamless.AI',\n",
      "               'index': 20},\n",
      "              {'type': 'atom',\n",
      "               'payload': 'New to Seamless and not sure where to start? We put '\n",
      "                          'together all the basics here to help you start '\n",
      "                          'crushing your quota.',\n",
      "               'index': 21},\n",
      "              {'type': 'atom',\n",
      "               'payload': 'Building Your Pipeline',\n",
      "               'index': 21},\n",
      "              {'type': 'atom',\n",
      "               'payload': 'Using our firmographic filters (location, industry, '\n",
      "                          'etc.) to identify your ideal customer profile and '\n",
      "                          'consistently generate leads month after month.',\n",
      "               'index': 22}],),\n",
      " 'links': [{'href': 'https://help.seamless.ai/',\n",
      "            'text_payload': ['Resources for getting started, training, & more.',\n",
      "                             'Knowledge Base']},\n",
      "           {'href': '/customers/presidents-club/presidents-club-winners',\n",
      "            'text_payload': ['Case Studies',\n",
      "                             'See how companies use Seamless to maximize '\n",
      "                             'revenue.']},\n",
      "           {'href': '/customers/get-support',\n",
      "            'text_payload': ['Weâ\\x80\\x99re here to support you on your '\n",
      "                             'journey.',\n",
      "                             'Get Support']},\n",
      "           {'href': '/customers/testimonials',\n",
      "            'text_payload': ['Testimonials',\n",
      "                             'See why 400,000+ users trust Seamless to grow '\n",
      "                             'their business.']},\n",
      "           {'href': '/customers/presidents-club',\n",
      "            'text_payload': ['Apply for your 6 or 7-figure award today!',\n",
      "                             \"Apply for President's Club\"]},\n",
      "           {'href': 'https://www.videoask.com/fiu0ti7yi',\n",
      "            'text_payload': ['Submit Your Story',\n",
      "                             'Tell us about how Seamless has helped you '\n",
      "                             'achieve your goals.']},\n",
      "           {'href': '/customers/blog',\n",
      "            'text_payload': ['Blog',\n",
      "                             'See All Product News',\n",
      "                             'Full of tips, tricks, & guides to success!']},\n",
      "           {'href': 'https://help.seamless.ai/s/topic/0TO6R000000byvmWAA/building-your-pipeline',\n",
      "            'text_payload': ['Building your pipeline']},\n",
      "           {'href': 'https://help.seamless.ai/s/topic/0TO6R000000byvjWAA/getting-started',\n",
      "            'text_payload': ['Getting started with Seamless']},\n",
      "           {'href': '/book-a-demo',\n",
      "            'text_payload': ['See Seamless in action', 'Book a Demo Today']}]}\n"
     ]
    }
   ],
   "source": [
    "websegmenter = WebSegmenter(url='https://seamless.ai/')\n",
    "websegmenter.run()\n",
    "results = websegmenter.search('customers')\n",
    "\n",
    "\n",
    "pprint.pprint(results)\n",
    "\n",
    "try : \n",
    "    node_id = results[0][0]\n",
    "    node_summary = websegmenter.summarize(node_id=node_id)\n",
    "    print('________________')\n",
    "    pprint.pprint(node_summary,sort_dicts=False)\n",
    "except : \n",
    "    print('No results found ...')"
   ]
  },
  {
   "cell_type": "code",
   "execution_count": 10,
   "metadata": {},
   "outputs": [],
   "source": [
    "# visualize a node \n",
    "# visualize_graph(websegmenter.graph,root_node='4b9a24c5fdf359bc3e960b3de0239c98d3fbf445')"
   ]
  }
 ],
 "metadata": {
  "kernelspec": {
   "display_name": "Python 3",
   "language": "python",
   "name": "python3"
  },
  "language_info": {
   "codemirror_mode": {
    "name": "ipython",
    "version": 3
   },
   "file_extension": ".py",
   "mimetype": "text/x-python",
   "name": "python",
   "nbconvert_exporter": "python",
   "pygments_lexer": "ipython3",
   "version": "3.10.11"
  },
  "orig_nbformat": 4
 },
 "nbformat": 4,
 "nbformat_minor": 2
}
